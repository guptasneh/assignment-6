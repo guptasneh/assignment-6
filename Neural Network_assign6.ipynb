{
 "cells": [
  {
   "cell_type": "code",
   "execution_count": 1,
   "id": "ae51a1b1-7d57-4261-8d95-729da0384d03",
   "metadata": {},
   "outputs": [],
   "source": [
    "import numpy as np\n",
    "import pandas as pd"
   ]
  },
  {
   "cell_type": "code",
   "execution_count": 43,
   "id": "83c42274-589b-4a31-88a5-81604e76df43",
   "metadata": {},
   "outputs": [],
   "source": [
    "data = pd.read_csv(\"C:/Users/Sneha Gupta/Downloads/Global_Pollution_Analysis.csv\")"
   ]
  },
  {
   "cell_type": "code",
   "execution_count": 44,
   "id": "1963f9bf-a43d-4036-8117-456acb304ba1",
   "metadata": {},
   "outputs": [
    {
     "data": {
      "text/html": [
       "<div>\n",
       "<style scoped>\n",
       "    .dataframe tbody tr th:only-of-type {\n",
       "        vertical-align: middle;\n",
       "    }\n",
       "\n",
       "    .dataframe tbody tr th {\n",
       "        vertical-align: top;\n",
       "    }\n",
       "\n",
       "    .dataframe thead th {\n",
       "        text-align: right;\n",
       "    }\n",
       "</style>\n",
       "<table border=\"1\" class=\"dataframe\">\n",
       "  <thead>\n",
       "    <tr style=\"text-align: right;\">\n",
       "      <th></th>\n",
       "      <th>Country</th>\n",
       "      <th>Year</th>\n",
       "      <th>Air_Pollution_Index</th>\n",
       "      <th>Water_Pollution_Index</th>\n",
       "      <th>Soil_Pollution_Index</th>\n",
       "      <th>Industrial_Waste (in tons)</th>\n",
       "      <th>Energy_Recovered (in GWh)</th>\n",
       "      <th>CO2_Emissions (in MT)</th>\n",
       "      <th>Renewable_Energy (%)</th>\n",
       "      <th>Plastic_Waste_Produced (in tons)</th>\n",
       "      <th>Energy_Consumption_Per_Capita (in MWh)</th>\n",
       "      <th>Population (in millions)</th>\n",
       "      <th>GDP_Per_Capita (in USD)</th>\n",
       "    </tr>\n",
       "  </thead>\n",
       "  <tbody>\n",
       "    <tr>\n",
       "      <th>0</th>\n",
       "      <td>Hungary</td>\n",
       "      <td>2005</td>\n",
       "      <td>272.70</td>\n",
       "      <td>124.27</td>\n",
       "      <td>51.95</td>\n",
       "      <td>94802.83</td>\n",
       "      <td>158.14</td>\n",
       "      <td>5.30</td>\n",
       "      <td>41.11</td>\n",
       "      <td>37078.88</td>\n",
       "      <td>12.56</td>\n",
       "      <td>42.22</td>\n",
       "      <td>20972.96</td>\n",
       "    </tr>\n",
       "    <tr>\n",
       "      <th>1</th>\n",
       "      <td>Singapore</td>\n",
       "      <td>2001</td>\n",
       "      <td>86.72</td>\n",
       "      <td>60.34</td>\n",
       "      <td>117.22</td>\n",
       "      <td>56283.92</td>\n",
       "      <td>498.04</td>\n",
       "      <td>6.34</td>\n",
       "      <td>36.44</td>\n",
       "      <td>33128.20</td>\n",
       "      <td>5.23</td>\n",
       "      <td>137.25</td>\n",
       "      <td>34850.41</td>\n",
       "    </tr>\n",
       "    <tr>\n",
       "      <th>2</th>\n",
       "      <td>Romania</td>\n",
       "      <td>2016</td>\n",
       "      <td>91.59</td>\n",
       "      <td>83.36</td>\n",
       "      <td>121.72</td>\n",
       "      <td>56256.02</td>\n",
       "      <td>489.51</td>\n",
       "      <td>49.69</td>\n",
       "      <td>9.38</td>\n",
       "      <td>18803.46</td>\n",
       "      <td>13.15</td>\n",
       "      <td>124.47</td>\n",
       "      <td>57773.15</td>\n",
       "    </tr>\n",
       "    <tr>\n",
       "      <th>3</th>\n",
       "      <td>Cook Islands</td>\n",
       "      <td>2018</td>\n",
       "      <td>280.61</td>\n",
       "      <td>67.16</td>\n",
       "      <td>93.58</td>\n",
       "      <td>74864.73</td>\n",
       "      <td>145.18</td>\n",
       "      <td>8.91</td>\n",
       "      <td>18.97</td>\n",
       "      <td>9182.27</td>\n",
       "      <td>0.78</td>\n",
       "      <td>67.80</td>\n",
       "      <td>21837.51</td>\n",
       "    </tr>\n",
       "    <tr>\n",
       "      <th>4</th>\n",
       "      <td>Djibouti</td>\n",
       "      <td>2008</td>\n",
       "      <td>179.16</td>\n",
       "      <td>127.53</td>\n",
       "      <td>121.55</td>\n",
       "      <td>76862.06</td>\n",
       "      <td>40.38</td>\n",
       "      <td>14.93</td>\n",
       "      <td>34.00</td>\n",
       "      <td>39235.12</td>\n",
       "      <td>12.84</td>\n",
       "      <td>186.52</td>\n",
       "      <td>41379.37</td>\n",
       "    </tr>\n",
       "    <tr>\n",
       "      <th>...</th>\n",
       "      <td>...</td>\n",
       "      <td>...</td>\n",
       "      <td>...</td>\n",
       "      <td>...</td>\n",
       "      <td>...</td>\n",
       "      <td>...</td>\n",
       "      <td>...</td>\n",
       "      <td>...</td>\n",
       "      <td>...</td>\n",
       "      <td>...</td>\n",
       "      <td>...</td>\n",
       "      <td>...</td>\n",
       "      <td>...</td>\n",
       "    </tr>\n",
       "    <tr>\n",
       "      <th>195</th>\n",
       "      <td>Latvia</td>\n",
       "      <td>2004</td>\n",
       "      <td>115.84</td>\n",
       "      <td>78.75</td>\n",
       "      <td>42.34</td>\n",
       "      <td>49503.35</td>\n",
       "      <td>81.23</td>\n",
       "      <td>4.85</td>\n",
       "      <td>17.38</td>\n",
       "      <td>4065.66</td>\n",
       "      <td>6.28</td>\n",
       "      <td>92.96</td>\n",
       "      <td>14818.18</td>\n",
       "    </tr>\n",
       "    <tr>\n",
       "      <th>196</th>\n",
       "      <td>Bangladesh</td>\n",
       "      <td>2002</td>\n",
       "      <td>121.82</td>\n",
       "      <td>120.97</td>\n",
       "      <td>63.95</td>\n",
       "      <td>74694.68</td>\n",
       "      <td>25.89</td>\n",
       "      <td>46.22</td>\n",
       "      <td>16.56</td>\n",
       "      <td>36905.26</td>\n",
       "      <td>15.18</td>\n",
       "      <td>114.02</td>\n",
       "      <td>59238.04</td>\n",
       "    </tr>\n",
       "    <tr>\n",
       "      <th>197</th>\n",
       "      <td>Korea</td>\n",
       "      <td>2011</td>\n",
       "      <td>149.73</td>\n",
       "      <td>146.92</td>\n",
       "      <td>37.04</td>\n",
       "      <td>2818.85</td>\n",
       "      <td>293.27</td>\n",
       "      <td>38.46</td>\n",
       "      <td>38.36</td>\n",
       "      <td>24700.29</td>\n",
       "      <td>14.11</td>\n",
       "      <td>183.06</td>\n",
       "      <td>28895.94</td>\n",
       "    </tr>\n",
       "    <tr>\n",
       "      <th>198</th>\n",
       "      <td>Vanuatu</td>\n",
       "      <td>2002</td>\n",
       "      <td>237.20</td>\n",
       "      <td>113.63</td>\n",
       "      <td>101.96</td>\n",
       "      <td>68746.82</td>\n",
       "      <td>305.61</td>\n",
       "      <td>28.82</td>\n",
       "      <td>32.17</td>\n",
       "      <td>1443.62</td>\n",
       "      <td>12.44</td>\n",
       "      <td>40.65</td>\n",
       "      <td>17068.01</td>\n",
       "    </tr>\n",
       "    <tr>\n",
       "      <th>199</th>\n",
       "      <td>Croatia</td>\n",
       "      <td>2010</td>\n",
       "      <td>135.50</td>\n",
       "      <td>158.43</td>\n",
       "      <td>89.80</td>\n",
       "      <td>36182.44</td>\n",
       "      <td>172.24</td>\n",
       "      <td>5.55</td>\n",
       "      <td>45.96</td>\n",
       "      <td>45405.35</td>\n",
       "      <td>11.72</td>\n",
       "      <td>166.62</td>\n",
       "      <td>30304.59</td>\n",
       "    </tr>\n",
       "  </tbody>\n",
       "</table>\n",
       "<p>200 rows × 13 columns</p>\n",
       "</div>"
      ],
      "text/plain": [
       "          Country  Year  Air_Pollution_Index  Water_Pollution_Index  \\\n",
       "0         Hungary  2005               272.70                 124.27   \n",
       "1       Singapore  2001                86.72                  60.34   \n",
       "2         Romania  2016                91.59                  83.36   \n",
       "3    Cook Islands  2018               280.61                  67.16   \n",
       "4        Djibouti  2008               179.16                 127.53   \n",
       "..            ...   ...                  ...                    ...   \n",
       "195        Latvia  2004               115.84                  78.75   \n",
       "196    Bangladesh  2002               121.82                 120.97   \n",
       "197         Korea  2011               149.73                 146.92   \n",
       "198       Vanuatu  2002               237.20                 113.63   \n",
       "199       Croatia  2010               135.50                 158.43   \n",
       "\n",
       "     Soil_Pollution_Index  Industrial_Waste (in tons)  \\\n",
       "0                   51.95                    94802.83   \n",
       "1                  117.22                    56283.92   \n",
       "2                  121.72                    56256.02   \n",
       "3                   93.58                    74864.73   \n",
       "4                  121.55                    76862.06   \n",
       "..                    ...                         ...   \n",
       "195                 42.34                    49503.35   \n",
       "196                 63.95                    74694.68   \n",
       "197                 37.04                     2818.85   \n",
       "198                101.96                    68746.82   \n",
       "199                 89.80                    36182.44   \n",
       "\n",
       "     Energy_Recovered (in GWh)  CO2_Emissions (in MT)  Renewable_Energy (%)  \\\n",
       "0                       158.14                   5.30                 41.11   \n",
       "1                       498.04                   6.34                 36.44   \n",
       "2                       489.51                  49.69                  9.38   \n",
       "3                       145.18                   8.91                 18.97   \n",
       "4                        40.38                  14.93                 34.00   \n",
       "..                         ...                    ...                   ...   \n",
       "195                      81.23                   4.85                 17.38   \n",
       "196                      25.89                  46.22                 16.56   \n",
       "197                     293.27                  38.46                 38.36   \n",
       "198                     305.61                  28.82                 32.17   \n",
       "199                     172.24                   5.55                 45.96   \n",
       "\n",
       "     Plastic_Waste_Produced (in tons)  Energy_Consumption_Per_Capita (in MWh)  \\\n",
       "0                            37078.88                                   12.56   \n",
       "1                            33128.20                                    5.23   \n",
       "2                            18803.46                                   13.15   \n",
       "3                             9182.27                                    0.78   \n",
       "4                            39235.12                                   12.84   \n",
       "..                                ...                                     ...   \n",
       "195                           4065.66                                    6.28   \n",
       "196                          36905.26                                   15.18   \n",
       "197                          24700.29                                   14.11   \n",
       "198                           1443.62                                   12.44   \n",
       "199                          45405.35                                   11.72   \n",
       "\n",
       "     Population (in millions)  GDP_Per_Capita (in USD)  \n",
       "0                       42.22                 20972.96  \n",
       "1                      137.25                 34850.41  \n",
       "2                      124.47                 57773.15  \n",
       "3                       67.80                 21837.51  \n",
       "4                      186.52                 41379.37  \n",
       "..                        ...                      ...  \n",
       "195                     92.96                 14818.18  \n",
       "196                    114.02                 59238.04  \n",
       "197                    183.06                 28895.94  \n",
       "198                     40.65                 17068.01  \n",
       "199                    166.62                 30304.59  \n",
       "\n",
       "[200 rows x 13 columns]"
      ]
     },
     "execution_count": 44,
     "metadata": {},
     "output_type": "execute_result"
    }
   ],
   "source": [
    "data"
   ]
  },
  {
   "cell_type": "code",
   "execution_count": 45,
   "id": "22089d4f-cda5-4539-9e3e-5bd4f1f810b2",
   "metadata": {},
   "outputs": [
    {
     "name": "stdout",
     "output_type": "stream",
     "text": [
      "<class 'pandas.core.frame.DataFrame'>\n",
      "RangeIndex: 200 entries, 0 to 199\n",
      "Data columns (total 13 columns):\n",
      " #   Column                                  Non-Null Count  Dtype  \n",
      "---  ------                                  --------------  -----  \n",
      " 0   Country                                 200 non-null    object \n",
      " 1   Year                                    200 non-null    int64  \n",
      " 2   Air_Pollution_Index                     200 non-null    float64\n",
      " 3   Water_Pollution_Index                   200 non-null    float64\n",
      " 4   Soil_Pollution_Index                    200 non-null    float64\n",
      " 5   Industrial_Waste (in tons)              200 non-null    float64\n",
      " 6   Energy_Recovered (in GWh)               200 non-null    float64\n",
      " 7   CO2_Emissions (in MT)                   200 non-null    float64\n",
      " 8   Renewable_Energy (%)                    200 non-null    float64\n",
      " 9   Plastic_Waste_Produced (in tons)        200 non-null    float64\n",
      " 10  Energy_Consumption_Per_Capita (in MWh)  200 non-null    float64\n",
      " 11  Population (in millions)                200 non-null    float64\n",
      " 12  GDP_Per_Capita (in USD)                 200 non-null    float64\n",
      "dtypes: float64(11), int64(1), object(1)\n",
      "memory usage: 20.4+ KB\n"
     ]
    }
   ],
   "source": [
    "data.info()"
   ]
  },
  {
   "cell_type": "code",
   "execution_count": 50,
   "id": "ba6d130f-5497-44b1-bbab-cdb9ebf94fd1",
   "metadata": {},
   "outputs": [],
   "source": [
    "from sklearn.preprocessing import LabelEncoder\n",
    "le = LabelEncoder()\n",
    "data['air'] = le.fit_transform(data['Air_Pollution_Index'])\n",
    "data['water'] = le.fit_transform(data['Water_Pollution_Index'])\n",
    "data['soil'] = le.fit_transform(data['Soil_Pollution_Index'])\n",
    "data['energy'] = le.fit_transform(data['Energy_Consumption_Per_Capita (in MWh)'])"
   ]
  },
  {
   "cell_type": "code",
   "execution_count": 51,
   "id": "0e10f7e6-995f-447a-86e2-4b02a67f5d7a",
   "metadata": {},
   "outputs": [],
   "source": [
    "features = ['air','soil','water','energy']\n",
    "x = data[features]\n",
    "from sklearn.preprocessing import StandardScaler\n",
    "ss = StandardScaler()\n",
    "x_s = ss.fit_transform(x)"
   ]
  },
  {
   "cell_type": "code",
   "execution_count": 52,
   "id": "6eede4bf-52d7-49d4-b062-b25302f23cd1",
   "metadata": {},
   "outputs": [],
   "source": [
    "from sklearn.cluster import KMeans\n",
    "k = 3\n",
    "kmeans = KMeans(n_clusters = k, random_state = 42)\n",
    "data['cluster'] = kmeans.fit_predict(x_s)"
   ]
  },
  {
   "cell_type": "code",
   "execution_count": 62,
   "id": "cf1c0f14-1983-4f04-b182-6c705c279ad5",
   "metadata": {},
   "outputs": [
    {
     "data": {
      "image/png": "[encoded data removed]",
      "text/plain": [
       "<Figure size 1200x500 with 1 Axes>"
      ]
     },
     "metadata": {},
     "output_type": "display_data"
    }
   ],
   "source": [
    "import matplotlib.pyplot as plt\n",
    "\n",
    "k_range = range(1, 50)\n",
    "sse = []\n",
    "for k in k_range:\n",
    "    kmeans = KMeans(n_clusters=k, random_state=42)\n",
    "    kmeans.fit(x_s)\n",
    "    sse.append(kmeans.inertia_)  # Sum of squared distances\n",
    "    \n",
    "\n",
    "plt.figure(figsize=(12,5))\n",
    "\n",
    "plt.subplot(1, 2, 1)\n",
    "plt.plot(k_range, sse, marker='o')\n",
    "plt.title('Elbow Method')\n",
    "plt.xlabel('Number of clusters')\n",
    "plt.ylabel('SSE')\n",
    "\n",
    "\n",
    "plt.show()\n"
   ]
  },
  {
   "cell_type": "code",
   "execution_count": 56,
   "id": "e3414f65-06a7-4474-8e75-c268daf89d2c",
   "metadata": {},
   "outputs": [
    {
     "name": "stdout",
     "output_type": "stream",
     "text": [
      "          Country  cluster\n",
      "0         Hungary        2\n",
      "1       Singapore        0\n",
      "2         Romania        0\n",
      "3    Cook Islands        1\n",
      "4        Djibouti        0\n",
      "..            ...      ...\n",
      "195        Latvia        0\n",
      "196    Bangladesh        0\n",
      "197         Korea        0\n",
      "198       Vanuatu        2\n",
      "199       Croatia        0\n",
      "\n",
      "[200 rows x 2 columns]\n"
     ]
    }
   ],
   "source": [
    "print(data[['Country', 'cluster']])"
   ]
  },
  {
   "cell_type": "code",
   "execution_count": 69,
   "id": "9de138af-8be6-4605-b4f0-d8b29212e865",
   "metadata": {},
   "outputs": [
    {
     "data": {
      "image/png": "[encoded data removed]",
      "text/plain": [
       "<Figure size 640x480 with 1 Axes>"
      ]
     },
     "metadata": {},
     "output_type": "display_data"
    },
    {
     "data": {
      "text/plain": [
       "<Figure size 2000x700 with 0 Axes>"
      ]
     },
     "metadata": {},
     "output_type": "display_data"
    }
   ],
   "source": [
    "from sklearn.cluster import AgglomerativeClustering\n",
    "agg = AgglomerativeClustering(n_clusters=3, linkage='ward')\n",
    "data['Cluster'] = agg.fit_predict(x_s)\n",
    "from scipy.cluster.hierarchy import dendrogram, linkage, fcluster\n",
    "\n",
    "linkage = linkage(x_s, method = 'ward', metric = 'euclidean')\n",
    "dendrogram(linkage)\n",
    "plt.xticks(rotation=90)\n",
    "plt.figure(figsize=(20,7))\n",
    "plt.tight_layout()\n",
    "plt.show()"
   ]
  },
  {
   "cell_type": "code",
   "execution_count": 71,
   "id": "a2cd6607-df62-4cf7-97ca-67446e0397ee",
   "metadata": {},
   "outputs": [
    {
     "name": "stdout",
     "output_type": "stream",
     "text": [
      "Cluster 0: Singapore, Romania, Cook Islands, Djibouti, Macedonia, Northern Mariana Islands, Slovenia, Oman, Bulgaria, Western Sahara, Bouvet Island (Bouvetoya), Costa Rica, Argentina, Mexico, Libyan Arab Jamahiriya, Bahamas, Zambia, French Guiana, Australia, Pitcairn Islands, Iran, Netherlands Antilles, Mali, India, Guernsey, Albania, Tunisia, Italy, Botswana, Jordan, Lao People's Democratic Republic, Bahrain, United Arab Emirates, Ecuador, Malta, Sweden, Austria, Bangladesh, Vietnam, Finland, Norway, Faroe Islands, Sudan, Fiji, Burundi, New Caledonia, Bhutan, Cote d'Ivoire, Guyana, Chile, Lebanon, Nicaragua, Honduras, El Salvador, Luxembourg, Indonesia, Moldova, Peru, Norfolk Island, Romania, Spain, Philippines, Western Sahara, Barbados, Croatia\n",
      "Cluster 1: Hungary, Croatia, Congo, Swaziland, Sri Lanka, Ukraine, Madagascar, Thailand, Maldives, Heard Island and McDonald Islands, Togo, Mozambique, Bosnia and Herzegovina, Paraguay, Cyprus, Belize, Nigeria, Colombia, Kazakhstan, United States Virgin Islands, Lithuania, Tajikistan, Zimbabwe, Estonia, Grenada, Cambodia, Falkland Islands (Malvinas), Saint Pierre and Miquelon, Aruba, Panama, British Virgin Islands, Indonesia, Benin, Equatorial Guinea, Andorra, Antarctica (the territory South of 60 deg S), Saint Barthelemy, Saint Vincent and the Grenadines, Switzerland, Morocco, Haiti, Malawi, Chad, United States Minor Outlying Islands, Dominica, Christmas Island, China, Taiwan, French Southern Territories, South Georgia and the South Sandwich Islands, Macao, Rwanda, Palestinian Territory, Nepal, Sweden, Mexico, Latvia, Germany, Guyana, Cuba, Puerto Rico, Norfolk Island, Mali, Papua New Guinea, Czech Republic, Afghanistan, Pitcairn Islands, Cuba, Saint Helena, Solomon Islands, Bangladesh, Korea, Vanuatu\n",
      "Cluster 2: Central African Republic, Greece, South Africa, Solomon Islands, Malaysia, Angola, Senegal, Portugal, Brunei Darussalam, Georgia, Liberia, Hong Kong, Netherlands, Tokelau, Germany, Kyrgyz Republic, British Indian Ocean Territory (Chagos Archipelago), Micronesia, Niger, Guinea-Bissau, Gambia, Israel, Saint Lucia, Cape Verde, Japan, San Marino, France, Sierra Leone, Ghana, Egypt, Suriname, Montenegro, Eritrea, Kuwait, Gibraltar, Armenia, Pakistan, Mayotte, Moldova, Afghanistan, United Kingdom, Kenya, Bermuda, Martinique, Belgium, Palestinian Territory, Antigua and Barbuda, Peru, Spain, Denmark, Mauritania, Latvia, Bolivia, Holy See (Vatican City State), Dominican Republic, Kuwait, Kenya, Kiribati, Moldova, Mauritania, Saint Kitts and Nevis, Latvia\n"
     ]
    }
   ],
   "source": [
    "for c in sorted(data['Cluster'].unique()):\n",
    "    members = data[data['Cluster'] == c]['Country'].tolist()\n",
    "    print(f\"Cluster {c}: {', '.join(members)}\")"
   ]
  },
  {
   "cell_type": "code",
   "execution_count": 15,
   "id": "604e6fe5-5753-4ff9-854b-94d7b190b11c",
   "metadata": {
    "collapsed": true,
    "jupyter": {
     "outputs_hidden": true
    }
   },
   "outputs": [
    {
     "name": "stdout",
     "output_type": "stream",
     "text": [
      "Requirement already satisfied: tensorflow in c:\\users\\sneha gupta\\appdata\\local\\programs\\python\\python312\\lib\\site-packages (2.19.0)\n",
      "Requirement already satisfied: absl-py>=1.0.0 in c:\\users\\sneha gupta\\appdata\\local\\programs\\python\\python312\\lib\\site-packages (from tensorflow) (2.3.1)\n",
      "Requirement already satisfied: astunparse>=1.6.0 in c:\\users\\sneha gupta\\appdata\\local\\programs\\python\\python312\\lib\\site-packages (from tensorflow) (1.6.3)\n",
      "Requirement already satisfied: flatbuffers>=24.3.25 in c:\\users\\sneha gupta\\appdata\\local\\programs\\python\\python312\\lib\\site-packages (from tensorflow) (25.2.10)\n",
      "Requirement already satisfied: gast!=0.5.0,!=0.5.1,!=0.5.2,>=0.2.1 in c:\\users\\sneha gupta\\appdata\\local\\programs\\python\\python312\\lib\\site-packages (from tensorflow) (0.6.0)\n",
      "Requirement already satisfied: google-pasta>=0.1.1 in c:\\users\\sneha gupta\\appdata\\local\\programs\\python\\python312\\lib\\site-packages (from tensorflow) (0.2.0)\n",
      "Requirement already satisfied: libclang>=13.0.0 in c:\\users\\sneha gupta\\appdata\\local\\programs\\python\\python312\\lib\\site-packages (from tensorflow) (18.1.1)\n",
      "Requirement already satisfied: opt-einsum>=2.3.2 in c:\\users\\sneha gupta\\appdata\\local\\programs\\python\\python312\\lib\\site-packages (from tensorflow) (3.4.0)\n",
      "Requirement already satisfied: packaging in c:\\users\\sneha gupta\\appdata\\local\\programs\\python\\python312\\lib\\site-packages (from tensorflow) (24.2)\n",
      "Requirement already satisfied: protobuf!=4.21.0,!=4.21.1,!=4.21.2,!=4.21.3,!=4.21.4,!=4.21.5,<6.0.0dev,>=3.20.3 in c:\\users\\sneha gupta\\appdata\\local\\programs\\python\\python312\\lib\\site-packages (from tensorflow) (5.29.5)\n",
      "Requirement already satisfied: requests<3,>=2.21.0 in c:\\users\\sneha gupta\\appdata\\local\\programs\\python\\python312\\lib\\site-packages (from tensorflow) (2.32.3)\n",
      "Requirement already satisfied: setuptools in c:\\users\\sneha gupta\\appdata\\local\\programs\\python\\python312\\lib\\site-packages (from tensorflow) (75.6.0)\n",
      "Requirement already satisfied: six>=1.12.0 in c:\\users\\sneha gupta\\appdata\\local\\programs\\python\\python312\\lib\\site-packages (from tensorflow) (1.17.0)\n",
      "Requirement already satisfied: termcolor>=1.1.0 in c:\\users\\sneha gupta\\appdata\\local\\programs\\python\\python312\\lib\\site-packages (from tensorflow) (3.1.0)\n",
      "Requirement already satisfied: typing-extensions>=3.6.6 in c:\\users\\sneha gupta\\appdata\\local\\programs\\python\\python312\\lib\\site-packages (from tensorflow) (4.12.2)\n",
      "Requirement already satisfied: wrapt>=1.11.0 in c:\\users\\sneha gupta\\appdata\\local\\programs\\python\\python312\\lib\\site-packages (from tensorflow) (1.17.2)\n",
      "Requirement already satisfied: grpcio<2.0,>=1.24.3 in c:\\users\\sneha gupta\\appdata\\local\\programs\\python\\python312\\lib\\site-packages (from tensorflow) (1.74.0)\n",
      "Requirement already satisfied: tensorboard~=2.19.0 in c:\\users\\sneha gupta\\appdata\\local\\programs\\python\\python312\\lib\\site-packages (from tensorflow) (2.19.0)\n",
      "Requirement already satisfied: keras>=3.5.0 in c:\\users\\sneha gupta\\appdata\\local\\programs\\python\\python312\\lib\\site-packages (from tensorflow) (3.11.1)\n",
      "Requirement already satisfied: numpy<2.2.0,>=1.26.0 in c:\\users\\sneha gupta\\appdata\\local\\programs\\python\\python312\\lib\\site-packages (from tensorflow) (2.1.3)\n",
      "Requirement already satisfied: h5py>=3.11.0 in c:\\users\\sneha gupta\\appdata\\local\\programs\\python\\python312\\lib\\site-packages (from tensorflow) (3.14.0)\n",
      "Requirement already satisfied: ml-dtypes<1.0.0,>=0.5.1 in c:\\users\\sneha gupta\\appdata\\local\\programs\\python\\python312\\lib\\site-packages (from tensorflow) (0.5.3)\n",
      "Requirement already satisfied: wheel<1.0,>=0.23.0 in c:\\users\\sneha gupta\\appdata\\local\\programs\\python\\python312\\lib\\site-packages (from astunparse>=1.6.0->tensorflow) (0.45.1)\n",
      "Requirement already satisfied: rich in c:\\users\\sneha gupta\\appdata\\local\\programs\\python\\python312\\lib\\site-packages (from keras>=3.5.0->tensorflow) (14.1.0)\n",
      "Requirement already satisfied: namex in c:\\users\\sneha gupta\\appdata\\local\\programs\\python\\python312\\lib\\site-packages (from keras>=3.5.0->tensorflow) (0.1.0)\n",
      "Requirement already satisfied: optree in c:\\users\\sneha gupta\\appdata\\local\\programs\\python\\python312\\lib\\site-packages (from keras>=3.5.0->tensorflow) (0.17.0)\n",
      "Requirement already satisfied: charset-normalizer<4,>=2 in c:\\users\\sneha gupta\\appdata\\local\\programs\\python\\python312\\lib\\site-packages (from requests<3,>=2.21.0->tensorflow) (3.4.1)\n",
      "Requirement already satisfied: idna<4,>=2.5 in c:\\users\\sneha gupta\\appdata\\local\\programs\\python\\python312\\lib\\site-packages (from requests<3,>=2.21.0->tensorflow) (3.10)\n",
      "Requirement already satisfied: urllib3<3,>=1.21.1 in c:\\users\\sneha gupta\\appdata\\local\\programs\\python\\python312\\lib\\site-packages (from requests<3,>=2.21.0->tensorflow) (2.3.0)\n",
      "Requirement already satisfied: certifi>=2017.4.17 in c:\\users\\sneha gupta\\appdata\\local\\programs\\python\\python312\\lib\\site-packages (from requests<3,>=2.21.0->tensorflow) (2024.12.14)\n",
      "Requirement already satisfied: markdown>=2.6.8 in c:\\users\\sneha gupta\\appdata\\local\\programs\\python\\python312\\lib\\site-packages (from tensorboard~=2.19.0->tensorflow) (3.8.2)\n",
      "Requirement already satisfied: tensorboard-data-server<0.8.0,>=0.7.0 in c:\\users\\sneha gupta\\appdata\\local\\programs\\python\\python312\\lib\\site-packages (from tensorboard~=2.19.0->tensorflow) (0.7.2)\n",
      "Requirement already satisfied: werkzeug>=1.0.1 in c:\\users\\sneha gupta\\appdata\\local\\programs\\python\\python312\\lib\\site-packages (from tensorboard~=2.19.0->tensorflow) (3.1.3)\n",
      "Requirement already satisfied: MarkupSafe>=2.1.1 in c:\\users\\sneha gupta\\appdata\\local\\programs\\python\\python312\\lib\\site-packages (from werkzeug>=1.0.1->tensorboard~=2.19.0->tensorflow) (3.0.2)\n",
      "Requirement already satisfied: markdown-it-py>=2.2.0 in c:\\users\\sneha gupta\\appdata\\local\\programs\\python\\python312\\lib\\site-packages (from rich->keras>=3.5.0->tensorflow) (3.0.0)\n",
      "Requirement already satisfied: pygments<3.0.0,>=2.13.0 in c:\\users\\sneha gupta\\appdata\\local\\programs\\python\\python312\\lib\\site-packages (from rich->keras>=3.5.0->tensorflow) (2.18.0)\n",
      "Requirement already satisfied: mdurl~=0.1 in c:\\users\\sneha gupta\\appdata\\local\\programs\\python\\python312\\lib\\site-packages (from markdown-it-py>=2.2.0->rich->keras>=3.5.0->tensorflow) (0.1.2)\n",
      "Note: you may need to restart the kernel to use updated packages.\n"
     ]
    },
    {
     "name": "stderr",
     "output_type": "stream",
     "text": [
      "\n",
      "[notice] A new release of pip is available: 24.0 -> 25.2\n",
      "[notice] To update, run: C:\\Users\\Sneha Gupta\\AppData\\Local\\Programs\\Python\\Python312\\python.exe -m pip install --upgrade pip\n"
     ]
    }
   ],
   "source": [
    "pip install tensorflow"
   ]
  },
  {
   "cell_type": "code",
   "execution_count": 72,
   "id": "0b11a3d7-5d7c-4b18-b360-3bb9cc358703",
   "metadata": {},
   "outputs": [],
   "source": [
    "import tensorflow as tf \n",
    "from tensorflow import keras\n",
    "from sklearn.model_selection import train_test_split\n",
    "from sklearn.metrics import accuracy_score, precision_score, recall_score, f1_score"
   ]
  },
  {
   "cell_type": "code",
   "execution_count": 73,
   "id": "c126de7d-8c7e-49aa-955f-387f4487e45d",
   "metadata": {},
   "outputs": [],
   "source": [
    "X = data[['Air_Pollution_Index', 'Water_Pollution_Index', 'Soil_Pollution_Index','Industrial_Waste (in tons)','CO2_Emissions (in MT)']]\n",
    "y = data['Energy_Recovered (in GWh)']"
   ]
  },
  {
   "cell_type": "code",
   "execution_count": 74,
   "id": "0ca4fbe1-e17c-4a3d-85b7-c502253ac7bc",
   "metadata": {},
   "outputs": [],
   "source": [
    "X_s = ss.fit_transform(X)"
   ]
  },
  {
   "cell_type": "code",
   "execution_count": 75,
   "id": "1c5b747f-2f49-412e-a927-a7a91f7082df",
   "metadata": {},
   "outputs": [],
   "source": [
    "x_train, x_test, y_train,y_test = train_test_split(X_s, y, test_size = 0.3,random_state = 42)"
   ]
  },
  {
   "cell_type": "code",
   "execution_count": 78,
   "id": "f3a17e2b-1614-43f8-88ae-528b9260d9fb",
   "metadata": {},
   "outputs": [
    {
     "data": {
      "text/html": [
       "<pre style=\"white-space:pre;overflow-x:auto;line-height:normal;font-family:Menlo,'DejaVu Sans Mono',consolas,'Courier New',monospace\"><span style=\"font-weight: bold\">Model: \"sequential_10\"</span>\n",
       "</pre>\n"
      ],
      "text/plain": [
       "\u001b[1mModel: \"sequential_10\"\u001b[0m\n"
      ]
     },
     "metadata": {},
     "output_type": "display_data"
    },
    {
     "data": {
      "text/html": [
       "<pre style=\"white-space:pre;overflow-x:auto;line-height:normal;font-family:Menlo,'DejaVu Sans Mono',consolas,'Courier New',monospace\">┏━━━━━━━━━━━━━━━━━━━━━━━━━━━━━━━━━━━━━━┳━━━━━━━━━━━━━━━━━━━━━━━━━━━━━┳━━━━━━━━━━━━━━━━━┓\n",
       "┃<span style=\"font-weight: bold\"> Layer (type)                         </span>┃<span style=\"font-weight: bold\"> Output Shape                </span>┃<span style=\"font-weight: bold\">         Param # </span>┃\n",
       "┡━━━━━━━━━━━━━━━━━━━━━━━━━━━━━━━━━━━━━━╇━━━━━━━━━━━━━━━━━━━━━━━━━━━━━╇━━━━━━━━━━━━━━━━━┩\n",
       "│ dense_14 (<span style=\"color: #0087ff; text-decoration-color: #0087ff\">Dense</span>)                     │ (<span style=\"color: #00d7ff; text-decoration-color: #00d7ff\">None</span>, <span style=\"color: #00af00; text-decoration-color: #00af00\">32</span>)                  │             <span style=\"color: #00af00; text-decoration-color: #00af00\">192</span> │\n",
       "├──────────────────────────────────────┼─────────────────────────────┼─────────────────┤\n",
       "│ dense_15 (<span style=\"color: #0087ff; text-decoration-color: #0087ff\">Dense</span>)                     │ (<span style=\"color: #00d7ff; text-decoration-color: #00d7ff\">None</span>, <span style=\"color: #00af00; text-decoration-color: #00af00\">16</span>)                  │             <span style=\"color: #00af00; text-decoration-color: #00af00\">528</span> │\n",
       "└──────────────────────────────────────┴─────────────────────────────┴─────────────────┘\n",
       "</pre>\n"
      ],
      "text/plain": [
       "┏━━━━━━━━━━━━━━━━━━━━━━━━━━━━━━━━━━━━━━┳━━━━━━━━━━━━━━━━━━━━━━━━━━━━━┳━━━━━━━━━━━━━━━━━┓\n",
       "┃\u001b[1m \u001b[0m\u001b[1mLayer (type)                        \u001b[0m\u001b[1m \u001b[0m┃\u001b[1m \u001b[0m\u001b[1mOutput Shape               \u001b[0m\u001b[1m \u001b[0m┃\u001b[1m \u001b[0m\u001b[1m        Param #\u001b[0m\u001b[1m \u001b[0m┃\n",
       "┡━━━━━━━━━━━━━━━━━━━━━━━━━━━━━━━━━━━━━━╇━━━━━━━━━━━━━━━━━━━━━━━━━━━━━╇━━━━━━━━━━━━━━━━━┩\n",
       "│ dense_14 (\u001b[38;5;33mDense\u001b[0m)                     │ (\u001b[38;5;45mNone\u001b[0m, \u001b[38;5;34m32\u001b[0m)                  │             \u001b[38;5;34m192\u001b[0m │\n",
       "├──────────────────────────────────────┼─────────────────────────────┼─────────────────┤\n",
       "│ dense_15 (\u001b[38;5;33mDense\u001b[0m)                     │ (\u001b[38;5;45mNone\u001b[0m, \u001b[38;5;34m16\u001b[0m)                  │             \u001b[38;5;34m528\u001b[0m │\n",
       "└──────────────────────────────────────┴─────────────────────────────┴─────────────────┘\n"
      ]
     },
     "metadata": {},
     "output_type": "display_data"
    },
    {
     "data": {
      "text/html": [
       "<pre style=\"white-space:pre;overflow-x:auto;line-height:normal;font-family:Menlo,'DejaVu Sans Mono',consolas,'Courier New',monospace\"><span style=\"font-weight: bold\"> Total params: </span><span style=\"color: #00af00; text-decoration-color: #00af00\">720</span> (2.81 KB)\n",
       "</pre>\n"
      ],
      "text/plain": [
       "\u001b[1m Total params: \u001b[0m\u001b[38;5;34m720\u001b[0m (2.81 KB)\n"
      ]
     },
     "metadata": {},
     "output_type": "display_data"
    },
    {
     "data": {
      "text/html": [
       "<pre style=\"white-space:pre;overflow-x:auto;line-height:normal;font-family:Menlo,'DejaVu Sans Mono',consolas,'Courier New',monospace\"><span style=\"font-weight: bold\"> Trainable params: </span><span style=\"color: #00af00; text-decoration-color: #00af00\">720</span> (2.81 KB)\n",
       "</pre>\n"
      ],
      "text/plain": [
       "\u001b[1m Trainable params: \u001b[0m\u001b[38;5;34m720\u001b[0m (2.81 KB)\n"
      ]
     },
     "metadata": {},
     "output_type": "display_data"
    },
    {
     "data": {
      "text/html": [
       "<pre style=\"white-space:pre;overflow-x:auto;line-height:normal;font-family:Menlo,'DejaVu Sans Mono',consolas,'Courier New',monospace\"><span style=\"font-weight: bold\"> Non-trainable params: </span><span style=\"color: #00af00; text-decoration-color: #00af00\">0</span> (0.00 B)\n",
       "</pre>\n"
      ],
      "text/plain": [
       "\u001b[1m Non-trainable params: \u001b[0m\u001b[38;5;34m0\u001b[0m (0.00 B)\n"
      ]
     },
     "metadata": {},
     "output_type": "display_data"
    }
   ],
   "source": [
    "from tensorflow.keras.optimizers import Adam\n",
    "model = keras.Sequential([\n",
    "    keras.layers.Dense(32, activation='relu', input_shape=(x_train.shape[1],)),\n",
    "    keras.layers.Dense(16, activation='sigmoid')  # Final output layer with 1 neuron\n",
    "])\n",
    "\n",
    "model.compile(optimizer=Adam(learning_rate=0.01), loss='mse', metrics=['mae'])\n",
    "model.summary()\n"
   ]
  },
  {
   "cell_type": "code",
   "execution_count": 79,
   "id": "a16b985b-be4c-406c-a8e8-0ba635ba1eee",
   "metadata": {},
   "outputs": [],
   "source": [
    "history = model.fit(x_train, y_train, epochs=100, validation_data=(x_test, y_test), verbose=0)"
   ]
  },
  {
   "cell_type": "code",
   "execution_count": null,
   "id": "5373cff3-0196-4acf-8b00-7ed93275b8d3",
   "metadata": {},
   "outputs": [],
   "source": []
  }
 ],
 "metadata": {
  "kernelspec": {
   "display_name": "Python 3 (ipykernel)",
   "language": "python",
   "name": "python3"
  },
  "language_info": {
   "codemirror_mode": {
    "name": "ipython",
    "version": 3
   },
   "file_extension": ".py",
   "mimetype": "text/x-python",
   "name": "python",
   "nbconvert_exporter": "python",
   "pygments_lexer": "ipython3",
   "version": "3.12.4"
  }
 },
 "nbformat": 4,
 "nbformat_minor": 5
}
